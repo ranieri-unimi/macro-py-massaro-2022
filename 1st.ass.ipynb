{
 "cells": [
  {
   "cell_type": "code",
   "execution_count": 1,
   "metadata": {},
   "outputs": [],
   "source": [
    "import numpy as np\n",
    "import math\n",
    "import seaborn as sns"
   ]
  },
  {
   "cell_type": "code",
   "execution_count": 2,
   "metadata": {},
   "outputs": [],
   "source": [
    "SIGMA = 1.5 # utility parameter\n",
    "BETA = 0.95 # \n",
    "DELTA = 0.1 # \n",
    "ALPHA = 0.3 # \n",
    "DEV = 0.9 # maximal deviation from steady state\n",
    "EPSILON = 1e-6 # convergence parameter\n",
    "N = 1000 # number of data points in the grid"
   ]
  },
  {
   "cell_type": "markdown",
   "metadata": {},
   "source": [
    "analytical soulition of stationary kapital and consumtion"
   ]
  },
  {
   "cell_type": "code",
   "execution_count": 3,
   "metadata": {},
   "outputs": [
    {
     "data": {
      "text/plain": [
       "2.6257456456982027"
      ]
     },
     "execution_count": 3,
     "metadata": {},
     "output_type": "execute_result"
    }
   ],
   "source": [
    "# steady state value of k\n",
    "kss = ((DELTA-1+(1/BETA))/ALPHA)**(1/(ALPHA-1))\n",
    "kss\n"
   ]
  },
  {
   "cell_type": "code",
   "execution_count": 4,
   "metadata": {},
   "outputs": [
    {
     "data": {
      "text/plain": [
       "1.073331114820493"
      ]
     },
     "execution_count": 4,
     "metadata": {},
     "output_type": "execute_result"
    }
   ],
   "source": [
    "# steady consumption\n",
    "css = kss*(kss**(ALPHA-1)-DELTA)\n",
    "css"
   ]
  },
  {
   "cell_type": "markdown",
   "metadata": {},
   "source": [
    "compute the grid search"
   ]
  },
  {
   "cell_type": "code",
   "execution_count": 5,
   "metadata": {},
   "outputs": [
    {
     "data": {
      "text/plain": [
       "(0.2625745645698202, 4.988916726826585)"
      ]
     },
     "execution_count": 5,
     "metadata": {},
     "output_type": "execute_result"
    }
   ],
   "source": [
    "kmin = (1 - DEV)*kss # grid's lower bound\n",
    "kmax = (1 + DEV)*kss # grid's upper bound\n",
    "kmin, kmax"
   ]
  },
  {
   "cell_type": "code",
   "execution_count": 6,
   "metadata": {},
   "outputs": [],
   "source": [
    "dk = (kmax - kmin)/(N-1) # compute distance between two consecutive data points on the grid (step size)\n",
    "kgrid = np.arange(kmin, kmax+dk, dk) # build the grid as a COLUMN vector"
   ]
  },
  {
   "cell_type": "markdown",
   "metadata": {},
   "source": [
    "vectors for value function, decision rule and Bellman operator"
   ]
  },
  {
   "cell_type": "code",
   "execution_count": 7,
   "metadata": {},
   "outputs": [],
   "source": [
    "'''\n",
    "Define initial condition for value function. As we know from Contraction Mapping Theorem, this could be anything.\n",
    "To start with, you could leave the vector of zeros as initial condition and later on think about something better\n",
    "'''\n",
    "v = np.zeros(N) # value function\n",
    "dr = np.zeros(N) # decision rule\n",
    "Bv = np.zeros(N) # Bellman operator"
   ]
  },
  {
   "cell_type": "markdown",
   "metadata": {},
   "source": [
    "functions for utility, production and distance"
   ]
  },
  {
   "cell_type": "code",
   "execution_count": 8,
   "metadata": {},
   "outputs": [],
   "source": [
    "def u(c) : return (c**(1-SIGMA))/(1-SIGMA) # \n",
    "def F(k) : return k**ALPHA + (1-DELTA)*k #\n",
    "def dist(a,b) : return max(abs(a-b)) #"
   ]
  },
  {
   "cell_type": "code",
   "execution_count": 9,
   "metadata": {},
   "outputs": [],
   "source": [
    "crit = 1 # could be anything bigger than stopping criterion - the algorithm will keep iterating until crit < epsi\n",
    "iter = 0 # iteration counter (not really needed, just FYI)"
   ]
  },
  {
   "cell_type": "markdown",
   "metadata": {},
   "source": [
    "non-optimized"
   ]
  },
  {
   "cell_type": "code",
   "execution_count": 10,
   "metadata": {},
   "outputs": [
    {
     "name": "stderr",
     "output_type": "stream",
     "text": [
      "C:\\Users\\martin.ranieri\\AppData\\Local\\Temp\\ipykernel_6828\\3902570932.py:1: RuntimeWarning: invalid value encountered in power\n",
      "  def u(c) : return (c**(1-SIGMA))/(1-SIGMA) #\n"
     ]
    }
   ],
   "source": [
    "while crit > EPSILON:\n",
    "    v = Bv.copy() # update the value function\n",
    "\n",
    "    #tmp = [u(F(k) - kgrid) + v*BETA for k in kgrid]\n",
    "    tmp = np.zeros(N) \n",
    "    for i, k in enumerate(kgrid):\n",
    "        c = F(k) - kgrid\n",
    "        tmp[i] = u(c) + v*BETA\n",
    "\n",
    "    rd = np.argmax(tmp, axis=-1)\n",
    "    Bv = np.max(tmp, axis=-1)\n",
    "    # Bv = np.take_along_axis(tmp,np.expand_dims(rd, axis=-1),-1).squeeze(axis=-1)\n",
    "    \n",
    "    crit = dist(Bv,v) # compute convergence criterion\n",
    "\n",
    "    print(crit)"
   ]
  },
  {
   "cell_type": "code",
   "execution_count": 52,
   "metadata": {},
   "outputs": [],
   "source": [
    "c =  [ F(kgrid[i]) - kgrid[rd[i]] for i in range(N)]\n",
    "kk = [ F(kgrid[i]) - c[i]  for i in range(N)]"
   ]
  },
  {
   "cell_type": "code",
   "execution_count": 53,
   "metadata": {},
   "outputs": [
    {
     "name": "stderr",
     "output_type": "stream",
     "text": [
      "c:\\Users\\martin.ranieri\\OneDrive - Università degli Studi di Milano\\Desktop\\MASSARO CM\\venv\\lib\\site-packages\\seaborn\\_decorators.py:36: FutureWarning: Pass the following variables as keyword args: x, y. From version 0.12, the only valid positional argument will be `data`, and passing other arguments without an explicit keyword will result in an error or misinterpretation.\n",
      "  warnings.warn(\n",
      "c:\\Users\\martin.ranieri\\OneDrive - Università degli Studi di Milano\\Desktop\\MASSARO CM\\venv\\lib\\site-packages\\seaborn\\_decorators.py:36: FutureWarning: Pass the following variables as keyword args: x, y. From version 0.12, the only valid positional argument will be `data`, and passing other arguments without an explicit keyword will result in an error or misinterpretation.\n",
      "  warnings.warn(\n"
     ]
    },
    {
     "data": {
      "text/plain": [
       "<AxesSubplot:>"
      ]
     },
     "execution_count": 53,
     "metadata": {},
     "output_type": "execute_result"
    },
    {
     "data": {
      "image/png": "[encoded data removed]",
      "text/plain": [
       "<Figure size 432x288 with 1 Axes>"
      ]
     },
     "metadata": {
      "needs_background": "light"
     },
     "output_type": "display_data"
    }
   ],
   "source": [
    "sns.scatterplot(kgrid,c)\n",
    "sns.scatterplot(kgrid,kk)"
   ]
  },
  {
   "cell_type": "markdown",
   "metadata": {},
   "source": [
    "optimized"
   ]
  },
  {
   "cell_type": "code",
   "execution_count": 54,
   "metadata": {},
   "outputs": [],
   "source": [
    "while crit > EPSILON: # Matlab will keep doing whatever you write between \"while\" and \"end\" as long as crit > epsi (i.e. until convergence is reached)\n",
    "    \n",
    "    v = Bv # update the value function\n",
    "\n",
    "    for i, k in enumerate(kgrid):\n",
    "\n",
    "        ceil = math.floor((F(k) - kmin) / dk)\n",
    "        \n",
    "        c = F(k) - kgrid\n",
    "        Bv[i] = max(u(c) + BETA*v)\n",
    "    \n",
    "    crit = dist(Bv,v) # compute convergence criterion"
   ]
  },
  {
   "cell_type": "code",
   "execution_count": 55,
   "metadata": {},
   "outputs": [],
   "source": [
    "def phi(k) : return k/2"
   ]
  },
  {
   "cell_type": "code",
   "execution_count": 56,
   "metadata": {},
   "outputs": [],
   "source": [
    "k1 = 100 # compute optimal next period capital choice at each grid point (recall that you have save the position of optimal k' at each grid point in vector dr)\n",
    "c = phi(k1) # compute optimal consumption at each grid point"
   ]
  }
 ],
 "metadata": {
  "interpreter": {
   "hash": "eaa82c54e884903e943417a673a7150460a0dc8edf0085058b9432fcba54d5ca"
  },
  "kernelspec": {
   "display_name": "Python 3.10.2 ('venv': venv)",
   "language": "python",
   "name": "python3"
  },
  "language_info": {
   "codemirror_mode": {
    "name": "ipython",
    "version": 3
   },
   "file_extension": ".py",
   "mimetype": "text/x-python",
   "name": "python",
   "nbconvert_exporter": "python",
   "pygments_lexer": "ipython3",
   "version": "3.10.2"
  },
  "orig_nbformat": 4
 },
 "nbformat": 4,
 "nbformat_minor": 2
}
